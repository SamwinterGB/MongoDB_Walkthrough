{
 "cells": [
  {
   "cell_type": "markdown",
   "metadata": {},
   "source": [
    "# MongoDB \n",
    "## Structure\n",
    "Collection = Table\n",
    "\n",
    "    Record = Document = Rows\n",
    "      consists of pairs of\n",
    "        o\tFields \n",
    "            \tArrays\n",
    "            \tOther documents \n",
    "            \tArrays of documents    \n",
    "        o\tValues \n",
    "\n",
    "Cursor = Result of a query \n"
   ]
  },
  {
   "cell_type": "code",
   "execution_count": 15,
   "metadata": {},
   "outputs": [],
   "source": [
    "import pymongo\n",
    "\n",
    "#Create a nibgi client object, specify a conection to it\n",
    "client = pymongo.MongoClient(\"mongodb://localhost:27017/\")\n",
    "\n",
    "#Specify the database. \n",
    "#If the database does not exist, one will be created\n",
    "#A connection is made to the newly created or simply specified database \n",
    "db = client[\"mydatabase\"]\n",
    "\n",
    "\n",
    "#To create a collection, the equivalent of a table, we specify the database object (above) \n",
    "#and the name of the collection\n",
    "col = db[\"medications\"]\n",
    "\n",
    "#If the collection was empty before or newly named, only now is it created\n",
    "# A collection is not created until it gets content!\n",
    "\n"
   ]
  },
  {
   "cell_type": "code",
   "execution_count": 16,
   "metadata": {},
   "outputs": [
    {
     "name": "stdout",
     "output_type": "stream",
     "text": [
      "['medications']\n"
     ]
    }
   ],
   "source": [
    "#Check our collection \n",
    "print(db.list_collection_names())\n"
   ]
  },
  {
   "cell_type": "code",
   "execution_count": 24,
   "metadata": {},
   "outputs": [],
   "source": [
    "from pymongo import MongoClient\n",
    "client = MongoClient(port=27017)\n",
    "client.drop_database('mydatabase')"
   ]
  },
  {
   "cell_type": "code",
   "execution_count": 25,
   "metadata": {},
   "outputs": [],
   "source": [
    "import pymongo\n",
    "\n",
    "#Connect to server, database and collection (table equivelent)\n",
    "client = pymongo.MongoClient(\"mongodb://localhost:27017/\")\n",
    "db = client[\"database\"]\n",
    "col = db[\"medications\"]\n",
    "\n",
    "#Specify a record (or row) as per below\n",
    "dict = { \"class\": \"antipyretic\", \"name\": \"acetaminophen\" }\n",
    "\n",
    "#Insert this record (or row) into our the col collection (table)\n",
    "x = col.insert_one(mydict)"
   ]
  },
  {
   "cell_type": "code",
   "execution_count": 26,
   "metadata": {},
   "outputs": [
    {
     "name": "stdout",
     "output_type": "stream",
     "text": [
      "['admin', 'config', 'database', 'local']\n"
     ]
    }
   ],
   "source": [
    "print(client.list_database_names())"
   ]
  },
  {
   "cell_type": "code",
   "execution_count": 27,
   "metadata": {},
   "outputs": [
    {
     "name": "stdout",
     "output_type": "stream",
     "text": [
      "600ac353a22adcd31bf95762\n"
     ]
    }
   ],
   "source": [
    "#In addition to the data specified above, insert.one() also inserts a unique id for the inserted document\n",
    "#If one is not specified, as in the example below, insert.one() will generate its own\n",
    "\n",
    "dict = { \"class\": \"antihistamine\", \"name\": \"allegra\" }\n",
    "\n",
    "x = col.insert_one(dict)\n",
    "\n",
    "print(x.inserted_id)"
   ]
  },
  {
   "cell_type": "code",
   "execution_count": 31,
   "metadata": {},
   "outputs": [
    {
     "name": "stdout",
     "output_type": "stream",
     "text": [
      "[ObjectId('600ac5f5a22adcd31bf95769'), ObjectId('600ac5f5a22adcd31bf9576a')]\n"
     ]
    }
   ],
   "source": [
    "#We can use insert_many() to insert many records at once\n",
    "#We pass a list containing dictionaries with the data you want to insert\n",
    "\n",
    "import pymongo\n",
    "\n",
    "myclient = pymongo.MongoClient(\"mongodb://localhost:27017/\")\n",
    "db = myclient[\"database\"]\n",
    "col = db[\"medications\"]\n",
    "\n",
    "mylist = [\n",
    "  { \"class\": \"sedative\", \"name\": \"barbituate\"},\n",
    "  { \"class\": \"antidepressant\", \"name\": \"lithium\"},\n",
    "]\n",
    "\n",
    "x = col.insert_many(mylist)\n",
    "\n",
    "#print list of the _id values of the inserted documents:\n",
    "print(x.inserted_ids)"
   ]
  },
  {
   "cell_type": "code",
   "execution_count": 35,
   "metadata": {},
   "outputs": [
    {
     "name": "stdout",
     "output_type": "stream",
     "text": [
      "[1, 2]\n"
     ]
    }
   ],
   "source": [
    "#We can also specify IDs of inserted documents\n",
    "\n",
    "import pymongo\n",
    "\n",
    "client = pymongo.MongoClient(\"mongodb://localhost:27017/\")\n",
    "db = client[\"database\"]\n",
    "col = db[\"medications\"]\n",
    "\n",
    "list = [\n",
    "  { \"_id\": 1, \"class\": \"beta-blocker\", \"name\": \"atenalol\"},\n",
    "  { \"_id\": 2, \"class\": \"diuretic\", \"name\": \"demanex\"},\n",
    "]\n",
    "\n",
    "\n",
    "x = col.insert_many(list)\n",
    "\n",
    "#print list of the _id values of the inserted documents:\n",
    "print(x.inserted_ids)"
   ]
  },
  {
   "cell_type": "markdown",
   "metadata": {},
   "source": [
    "## Selecting Collection Data \n",
    "\n",
    "The find() method returns:\n",
    "- All documents in the collection if we input no search term\n",
    "- All values of any specified fields we select to search for (we specify 0 to exclude and 1 to include field values)\n",
    "\n"
   ]
  },
  {
   "cell_type": "code",
   "execution_count": 36,
   "metadata": {},
   "outputs": [
    {
     "name": "stdout",
     "output_type": "stream",
     "text": [
      "{'_id': ObjectId('600ac19ea22adcd31bf9575c'), 'class': 'antipyretic', 'Name': 'acetaminophen'}\n",
      "{'_id': ObjectId('600ac353a22adcd31bf95762'), 'class': 'antihistamine', 'Name': 'allegra'}\n",
      "{'_id': ObjectId('600ac5f5a22adcd31bf95769'), 'class': 'sedative', 'name': 'barbituate'}\n",
      "{'_id': ObjectId('600ac5f5a22adcd31bf9576a'), 'class': 'antidepressant', 'name': 'lithium'}\n",
      "{'_id': 1, 'class': 'beta-blocker', 'name': 'atenalol'}\n",
      "{'_id': 2, 'class': 'diuretic', 'name': 'demanex'}\n"
     ]
    }
   ],
   "source": [
    "#All data in collection \n",
    "import pymongo\n",
    "\n",
    "client = pymongo.MongoClient(\"mongodb://localhost:27017/\")\n",
    "db = client[\"database\"]\n",
    "col = db[\"medications\"]\n",
    "\n",
    "for x in col.find():\n",
    "  print(x)"
   ]
  },
  {
   "cell_type": "code",
   "execution_count": 43,
   "metadata": {},
   "outputs": [
    {
     "name": "stdout",
     "output_type": "stream",
     "text": [
      "{'_id': ObjectId('600ac19ea22adcd31bf9575c'), 'Name': 'acetaminophen'}\n",
      "{'_id': ObjectId('600ac353a22adcd31bf95762'), 'Name': 'allegra'}\n",
      "{'_id': ObjectId('600ac5f5a22adcd31bf95769'), 'name': 'barbituate'}\n",
      "{'_id': ObjectId('600ac5f5a22adcd31bf9576a'), 'name': 'lithium'}\n",
      "{'_id': 1, 'name': 'atenalol'}\n",
      "{'_id': 2, 'name': 'demanex'}\n"
     ]
    }
   ],
   "source": [
    "#Return only the names, and ids, not the class\n",
    "import pymongo\n",
    "\n",
    "client = pymongo.MongoClient(\"mongodb://localhost:27017/\")\n",
    "db = client[\"database\"]\n",
    "col = db[\"medications\"]\n",
    "\n",
    "for x in col.find({},{\"class\": 0}):\n",
    "  print(x)"
   ]
  },
  {
   "cell_type": "markdown",
   "metadata": {},
   "source": [
    "## Filtering Objects \n",
    "\n",
    "If we specify the value to search rather a 1 or 0 in each field, we return the complete records which only contain the searched value \n",
    "\n",
    "If use modifiers instead of values themselves or 1s or 0s, we can return fields that meet certain criteria"
   ]
  },
  {
   "cell_type": "code",
   "execution_count": 44,
   "metadata": {},
   "outputs": [
    {
     "name": "stdout",
     "output_type": "stream",
     "text": [
      "{'_id': ObjectId('600ac37ba22adcd31bf95764'), 'class': 'antihistamine'}\n",
      "{'_id': ObjectId('600ac37ba22adcd31bf95765'), 'class': 'antihistamine'}\n",
      "{'_id': ObjectId('600ac5f5a22adcd31bf95769'), 'class': 'antihistamine'}\n",
      "{'_id': ObjectId('600ac5f5a22adcd31bf9576a'), 'class': 'antihistamine'}\n"
     ]
    }
   ],
   "source": [
    "import pymongo\n",
    "\n",
    "\n",
    "#Return only the class, not the ids or the names\n",
    "import pymongo\n",
    "\n",
    "client = pymongo.MongoClient(\"mongodb://localhost:27017/\")\n",
    "db = client[\"database\"]\n",
    "col = db[\"medications\"]\n",
    "\n",
    "for x in col.find({},{\"class\": \"antihistamine\"}):\n",
    "  print(x)"
   ]
  },
  {
   "cell_type": "code",
   "execution_count": 45,
   "metadata": {},
   "outputs": [
    {
     "name": "stdout",
     "output_type": "stream",
     "text": [
      "{'_id': ObjectId('600ac19ea22adcd31bf9575c'), 'class': 'antipyretic', 'Name': 'acetaminophen'}\n",
      "{'_id': ObjectId('600ac353a22adcd31bf95762'), 'class': 'antihistamine', 'Name': 'allegra'}\n",
      "{'_id': ObjectId('600ac5f5a22adcd31bf9576a'), 'class': 'antidepressant', 'name': 'lithium'}\n"
     ]
    }
   ],
   "source": [
    "#Using regular expresimport pymongo\n",
    "\n",
    "\n",
    "#Return only the class, not the ids or the names\n",
    "import pymongo\n",
    "\n",
    "client = pymongo.MongoClient(\"mongodb://localhost:27017/\")\n",
    "db = myclient[\"database\"]\n",
    "col = mydb[\"medications\"]\n",
    "\n",
    "query = {\"class\": { \"$regex\": \"^a\" }}\n",
    "    \n",
    "doc = col.find(query)\n",
    "\n",
    "for x in doc:\n",
    "  print(x)"
   ]
  },
  {
   "cell_type": "markdown",
   "metadata": {},
   "source": [
    "## Sorting values\n",
    "\n",
    "We can sort values in selected fields of our documents with sort()\n",
    "\n",
    "Field names are ordered alphabetically ascending by default, descending if -1 is entered after the descending sort function "
   ]
  },
  {
   "cell_type": "code",
   "execution_count": 52,
   "metadata": {},
   "outputs": [
    {
     "name": "stdout",
     "output_type": "stream",
     "text": [
      "{'_id': ObjectId('600ac37ba22adcd31bf95764'), 'class': 'sedative', 'name': 'barbituate'}\n",
      "{'_id': ObjectId('600ac37ba22adcd31bf95765'), 'class': 'antidepressant', 'name': 'lithium'}\n"
     ]
    }
   ],
   "source": [
    "import pymongo\n",
    "\n",
    "myclient = pymongo.MongoClient(\"mongodb://localhost:27017/\")\n",
    "db = client[\"mydatabase\"]\n",
    "col = db[\"medications\"]\n",
    "\n",
    "mydoc = col.find().sort(\"Name\")\n",
    "\n",
    "for x in mydoc:\n",
    "  print(x)"
   ]
  },
  {
   "cell_type": "code",
   "execution_count": 53,
   "metadata": {},
   "outputs": [
    {
     "name": "stdout",
     "output_type": "stream",
     "text": [
      "{'_id': ObjectId('600ac37ba22adcd31bf95764'), 'class': 'sedative', 'name': 'barbituate'}\n",
      "{'_id': ObjectId('600ac37ba22adcd31bf95765'), 'class': 'antidepressant', 'name': 'lithium'}\n"
     ]
    }
   ],
   "source": [
    "import pymongo\n",
    "\n",
    "myclient = pymongo.MongoClient(\"mongodb://localhost:27017/\")\n",
    "db = client[\"mydatabase\"]\n",
    "col = db[\"medications\"]\n",
    "\n",
    "mydoc = col.find().sort(\"Name\", -1)\n",
    "\n",
    "for x in mydoc:\n",
    "  print(x)"
   ]
  },
  {
   "cell_type": "markdown",
   "metadata": {},
   "source": [
    "## Limiting the documents to return\n",
    "We use limit() to define the number of documents our search query brings\n",
    "\n",
    "Helpful if we have large collections!"
   ]
  },
  {
   "cell_type": "code",
   "execution_count": 62,
   "metadata": {},
   "outputs": [],
   "source": [
    "import pymongo\n",
    "\n",
    "client = pymongo.MongoClient(\"mongodb://localhost:27017/\")\n",
    "db = client[\"database\"]\n",
    "col = db[\"medications\"]\n",
    "\n",
    "myresult = mycol.find().limit(2)\n",
    "\n",
    "#print the result:\n",
    "for x in myresult:\n",
    "  print(x)"
   ]
  },
  {
   "cell_type": "markdown",
   "metadata": {},
   "source": [
    "## Deleting Documents\n",
    "\n",
    "We can use delete_many():\n",
    "- To delete documents that contain specified values \n",
    "- Delete documents with values that meet specified criteria \n",
    "- Delete all documents in a collection, by not specifying any values to pass"
   ]
  },
  {
   "cell_type": "code",
   "execution_count": 54,
   "metadata": {},
   "outputs": [
    {
     "name": "stdout",
     "output_type": "stream",
     "text": [
      "0  documents deleted.\n"
     ]
    }
   ],
   "source": [
    "\n",
    "client = pymongo.MongoClient(\"mongodb://localhost:27017/\")\n",
    "db = client[\"database\"]\n",
    "col = db[\"customers\"]\n",
    "\n",
    "myquery = { \"Name\": \"allegra\" }\n",
    "\n",
    "x = col.delete_many(myquery)\n",
    "\n",
    "print(x.deleted_count, \" documents deleted.\")"
   ]
  },
  {
   "cell_type": "code",
   "execution_count": 55,
   "metadata": {},
   "outputs": [
    {
     "name": "stdout",
     "output_type": "stream",
     "text": [
      "0  documents deleted.\n"
     ]
    }
   ],
   "source": [
    "\n",
    "client = pymongo.MongoClient(\"mongodb://localhost:27017/\")\n",
    "db = client[\"database\"]\n",
    "mycol = db[\"medications\"]\n",
    "\n",
    "myquery = { \"name\": {\"$regex\": \"^P\"} }\n",
    "\n",
    "x = col.delete_many(myquery)\n",
    "\n",
    "print(x.deleted_count, \" documents deleted.\")"
   ]
  },
  {
   "cell_type": "code",
   "execution_count": 56,
   "metadata": {},
   "outputs": [
    {
     "name": "stdout",
     "output_type": "stream",
     "text": [
      "2  documents deleted.\n"
     ]
    }
   ],
   "source": [
    "import pymongo\n",
    "\n",
    "client = pymongo.MongoClient(\"mongodb://localhost:27017/\")\n",
    "db = client[\"database\"]\n",
    "col = db[\"medications\"]\n",
    "\n",
    "x = col.delete_many({})\n",
    "\n",
    "print(x.deleted_count, \" documents deleted.\")"
   ]
  },
  {
   "cell_type": "markdown",
   "metadata": {},
   "source": [
    "## Deleting Collections\n",
    "The mongoDB version of tables"
   ]
  },
  {
   "cell_type": "code",
   "execution_count": 59,
   "metadata": {},
   "outputs": [],
   "source": [
    "import pymongo\n",
    "\n",
    "client = pymongo.MongoClient(\"mongodb://localhost:27017/\")\n",
    "db = client[\"database\"]\n",
    "col = db[\"medications\"]\n",
    "\n",
    "mycol.drop()"
   ]
  },
  {
   "cell_type": "markdown",
   "metadata": {},
   "source": [
    "## Updating Documents\n",
    "Otherwise known as records \n",
    "\n",
    "We use update_one(), specifying the old document to update then new values of the document\n",
    "\n"
   ]
  },
  {
   "cell_type": "code",
   "execution_count": 61,
   "metadata": {},
   "outputs": [
    {
     "name": "stdout",
     "output_type": "stream",
     "text": [
      "{'_id': ObjectId('600ac19ea22adcd31bf9575c'), 'class': 'antipyretic', 'Name': 'acetaminophen'}\n",
      "{'_id': ObjectId('600ac353a22adcd31bf95762'), 'class': 'antihistamine', 'Name': 'allegra'}\n",
      "{'_id': ObjectId('600ac5f5a22adcd31bf95769'), 'class': 'sedative', 'name': 'barbituate'}\n",
      "{'_id': ObjectId('600ac5f5a22adcd31bf9576a'), 'class': 'antidepressant', 'name': 'lithium'}\n",
      "{'_id': 1, 'class': 'beta-blocker', 'name': 'atenalol'}\n",
      "{'_id': 2, 'class': 'diuretic', 'name': 'demanex'}\n"
     ]
    }
   ],
   "source": [
    "import pymongo\n",
    "\n",
    "client = pymongo.MongoClient(\"mongodb://localhost:27017/\")\n",
    "db = client[\"database\"]\n",
    "col = db[\"medications\"]\n",
    "\n",
    "query = { \"name\": 'lithium' }\n",
    "newvalues = { \"$set\": { \"name\": \"prozac\" } }\n",
    "\n",
    "mycol.update_one(query, newvalues)\n",
    "\n",
    "#print \"medications\" after the update:\n",
    "for x in col.find():\n",
    "  print(x)"
   ]
  },
  {
   "cell_type": "code",
   "execution_count": null,
   "metadata": {},
   "outputs": [],
   "source": []
  }
 ],
 "metadata": {
  "kernelspec": {
   "display_name": "Python 3",
   "language": "python",
   "name": "python3"
  },
  "language_info": {
   "codemirror_mode": {
    "name": "ipython",
    "version": 3
   },
   "file_extension": ".py",
   "mimetype": "text/x-python",
   "name": "python",
   "nbconvert_exporter": "python",
   "pygments_lexer": "ipython3",
   "version": "3.8.5"
  }
 },
 "nbformat": 4,
 "nbformat_minor": 4
}
